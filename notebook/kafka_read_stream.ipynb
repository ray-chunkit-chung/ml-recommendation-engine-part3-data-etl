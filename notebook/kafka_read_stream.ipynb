{
 "cells": [
  {
   "cell_type": "code",
   "execution_count": 1,
   "metadata": {},
   "outputs": [
    {
     "name": "stderr",
     "output_type": "stream",
     "text": [
      "2023-12-03 10:13:30.548053: I tensorflow/core/util/port.cc:113] oneDNN custom operations are on. You may see slightly different numerical results due to floating-point round-off errors from different computation orders. To turn them off, set the environment variable `TF_ENABLE_ONEDNN_OPTS=0`.\n",
      "2023-12-03 10:13:30.611876: I external/local_tsl/tsl/cuda/cudart_stub.cc:31] Could not find cuda drivers on your machine, GPU will not be used.\n",
      "2023-12-03 10:13:30.916851: E external/local_xla/xla/stream_executor/cuda/cuda_dnn.cc:9261] Unable to register cuDNN factory: Attempting to register factory for plugin cuDNN when one has already been registered\n",
      "2023-12-03 10:13:30.916917: E external/local_xla/xla/stream_executor/cuda/cuda_fft.cc:607] Unable to register cuFFT factory: Attempting to register factory for plugin cuFFT when one has already been registered\n",
      "2023-12-03 10:13:30.964380: E external/local_xla/xla/stream_executor/cuda/cuda_blas.cc:1515] Unable to register cuBLAS factory: Attempting to register factory for plugin cuBLAS when one has already been registered\n",
      "2023-12-03 10:13:31.070447: I external/local_tsl/tsl/cuda/cudart_stub.cc:31] Could not find cuda drivers on your machine, GPU will not be used.\n",
      "2023-12-03 10:13:31.074637: I tensorflow/core/platform/cpu_feature_guard.cc:182] This TensorFlow binary is optimized to use available CPU instructions in performance-critical operations.\n",
      "To enable the following instructions: AVX2 AVX512F AVX512_VNNI FMA, in other operations, rebuild TensorFlow with the appropriate compiler flags.\n",
      "2023-12-03 10:13:32.553880: W tensorflow/compiler/tf2tensorrt/utils/py_utils.cc:38] TF-TRT Warning: Could not find TensorRT\n"
     ]
    }
   ],
   "source": [
    "import tensorflow_io as tfio\n",
    "import tensorflow as tf"
   ]
  },
  {
   "cell_type": "code",
   "execution_count": 3,
   "metadata": {},
   "outputs": [
    {
     "data": {
      "text/plain": [
       "'0.34.0'"
      ]
     },
     "execution_count": 3,
     "metadata": {},
     "output_type": "execute_result"
    }
   ],
   "source": [
    "tfio.__version__"
   ]
  },
  {
   "cell_type": "code",
   "execution_count": 2,
   "metadata": {},
   "outputs": [
    {
     "ename": "NotImplementedError",
     "evalue": "unable to open file: libtensorflow_io.so, from paths: ['/com.docker.devenvironments.code/.venv/lib/python3.11/site-packages/tensorflow_io/python/ops/libtensorflow_io.so']\ncaused by: ['/com.docker.devenvironments.code/.venv/lib/python3.11/site-packages/tensorflow_io/python/ops/libtensorflow_io.so: undefined symbol: _ZNK10tensorflow4data11DatasetBase8FinalizeEPNS_15OpKernelContextESt8functionIFN3tsl8StatusOrINS5_4core11RefCountPtrIS1_EEEEvEE']",
     "output_type": "error",
     "traceback": [
      "\u001b[0;31m---------------------------------------------------------------------------\u001b[0m",
      "\u001b[0;31mNotImplementedError\u001b[0m                       Traceback (most recent call last)",
      "\u001b[1;32m/com.docker.devenvironments.code/notebook/kafka_read_stream.ipynb Cell 2\u001b[0m line \u001b[0;36m5\n\u001b[1;32m      <a href='vscode-notebook-cell://attached-container%2B7b22636f6e7461696e65724e616d65223a222f66613762393730323633396139393261303235306139393438353332636164326564633432343362626361356433316237353633363961646639373866353462227d/com.docker.devenvironments.code/notebook/kafka_read_stream.ipynb#W2sdnNjb2RlLXJlbW90ZQ%3D%3D?line=1'>2</a>\u001b[0m SHUFFLE_BUFFER_SIZE\u001b[39m=\u001b[39m\u001b[39m64\u001b[39m\n\u001b[1;32m      <a href='vscode-notebook-cell://attached-container%2B7b22636f6e7461696e65724e616d65223a222f66613762393730323633396139393261303235306139393438353332636164326564633432343362626361356433316237353633363961646639373866353462227d/com.docker.devenvironments.code/notebook/kafka_read_stream.ipynb#W2sdnNjb2RlLXJlbW90ZQ%3D%3D?line=2'>3</a>\u001b[0m NUM_COLUMNS \u001b[39m=\u001b[39m \u001b[39m2\u001b[39m\n\u001b[0;32m----> <a href='vscode-notebook-cell://attached-container%2B7b22636f6e7461696e65724e616d65223a222f66613762393730323633396139393261303235306139393438353332636164326564633432343362626361356433316237353633363961646639373866353462227d/com.docker.devenvironments.code/notebook/kafka_read_stream.ipynb#W2sdnNjb2RlLXJlbW90ZQ%3D%3D?line=4'>5</a>\u001b[0m online_train_ds \u001b[39m=\u001b[39m tfio\u001b[39m.\u001b[39;49mexperimental\u001b[39m.\u001b[39;49mstreaming\u001b[39m.\u001b[39;49mKafkaBatchIODataset(\n\u001b[1;32m      <a href='vscode-notebook-cell://attached-container%2B7b22636f6e7461696e65724e616d65223a222f66613762393730323633396139393261303235306139393438353332636164326564633432343362626361356433316237353633363961646639373866353462227d/com.docker.devenvironments.code/notebook/kafka_read_stream.ipynb#W2sdnNjb2RlLXJlbW90ZQ%3D%3D?line=5'>6</a>\u001b[0m     topics\u001b[39m=\u001b[39;49m[\u001b[39m\"\u001b[39;49m\u001b[39mtrain\u001b[39;49m\u001b[39m\"\u001b[39;49m],\n\u001b[1;32m      <a href='vscode-notebook-cell://attached-container%2B7b22636f6e7461696e65724e616d65223a222f66613762393730323633396139393261303235306139393438353332636164326564633432343362626361356433316237353633363961646639373866353462227d/com.docker.devenvironments.code/notebook/kafka_read_stream.ipynb#W2sdnNjb2RlLXJlbW90ZQ%3D%3D?line=6'>7</a>\u001b[0m     group_id\u001b[39m=\u001b[39;49m\u001b[39m\"\u001b[39;49m\u001b[39mcgonline\u001b[39;49m\u001b[39m\"\u001b[39;49m,\n\u001b[1;32m      <a href='vscode-notebook-cell://attached-container%2B7b22636f6e7461696e65724e616d65223a222f66613762393730323633396139393261303235306139393438353332636164326564633432343362626361356433316237353633363961646639373866353462227d/com.docker.devenvironments.code/notebook/kafka_read_stream.ipynb#W2sdnNjb2RlLXJlbW90ZQ%3D%3D?line=7'>8</a>\u001b[0m     servers\u001b[39m=\u001b[39;49m\u001b[39m\"\u001b[39;49m\u001b[39m127.0.0.1:9092\u001b[39;49m\u001b[39m\"\u001b[39;49m,\n\u001b[1;32m      <a href='vscode-notebook-cell://attached-container%2B7b22636f6e7461696e65724e616d65223a222f66613762393730323633396139393261303235306139393438353332636164326564633432343362626361356433316237353633363961646639373866353462227d/com.docker.devenvironments.code/notebook/kafka_read_stream.ipynb#W2sdnNjb2RlLXJlbW90ZQ%3D%3D?line=8'>9</a>\u001b[0m     stream_timeout\u001b[39m=\u001b[39;49m\u001b[39m10000\u001b[39;49m, \u001b[39m# in milliseconds, to block indefinitely,set it -1\u001b[39;49;00m\n\u001b[1;32m     <a href='vscode-notebook-cell://attached-container%2B7b22636f6e7461696e65724e616d65223a222f66613762393730323633396139393261303235306139393438353332636164326564633432343362626361356433316237353633363961646639373866353462227d/com.docker.devenvironments.code/notebook/kafka_read_stream.ipynb#W2sdnNjb2RlLXJlbW90ZQ%3D%3D?line=9'>10</a>\u001b[0m     configuration\u001b[39m=\u001b[39;49m[\n\u001b[1;32m     <a href='vscode-notebook-cell://attached-container%2B7b22636f6e7461696e65724e616d65223a222f66613762393730323633396139393261303235306139393438353332636164326564633432343362626361356433316237353633363961646639373866353462227d/com.docker.devenvironments.code/notebook/kafka_read_stream.ipynb#W2sdnNjb2RlLXJlbW90ZQ%3D%3D?line=10'>11</a>\u001b[0m         \u001b[39m\"\u001b[39;49m\u001b[39msession.timeout.ms=7000\u001b[39;49m\u001b[39m\"\u001b[39;49m,\n\u001b[1;32m     <a href='vscode-notebook-cell://attached-container%2B7b22636f6e7461696e65724e616d65223a222f66613762393730323633396139393261303235306139393438353332636164326564633432343362626361356433316237353633363961646639373866353462227d/com.docker.devenvironments.code/notebook/kafka_read_stream.ipynb#W2sdnNjb2RlLXJlbW90ZQ%3D%3D?line=11'>12</a>\u001b[0m         \u001b[39m\"\u001b[39;49m\u001b[39mmax.poll.interval.ms=8000\u001b[39;49m\u001b[39m\"\u001b[39;49m,\n\u001b[1;32m     <a href='vscode-notebook-cell://attached-container%2B7b22636f6e7461696e65724e616d65223a222f66613762393730323633396139393261303235306139393438353332636164326564633432343362626361356433316237353633363961646639373866353462227d/com.docker.devenvironments.code/notebook/kafka_read_stream.ipynb#W2sdnNjb2RlLXJlbW90ZQ%3D%3D?line=12'>13</a>\u001b[0m         \u001b[39m\"\u001b[39;49m\u001b[39mauto.offset.reset=earliest\u001b[39;49m\u001b[39m\"\u001b[39;49m\n\u001b[1;32m     <a href='vscode-notebook-cell://attached-container%2B7b22636f6e7461696e65724e616d65223a222f66613762393730323633396139393261303235306139393438353332636164326564633432343362626361356433316237353633363961646639373866353462227d/com.docker.devenvironments.code/notebook/kafka_read_stream.ipynb#W2sdnNjb2RlLXJlbW90ZQ%3D%3D?line=13'>14</a>\u001b[0m     ],\n\u001b[1;32m     <a href='vscode-notebook-cell://attached-container%2B7b22636f6e7461696e65724e616d65223a222f66613762393730323633396139393261303235306139393438353332636164326564633432343362626361356433316237353633363961646639373866353462227d/com.docker.devenvironments.code/notebook/kafka_read_stream.ipynb#W2sdnNjb2RlLXJlbW90ZQ%3D%3D?line=14'>15</a>\u001b[0m )\n\u001b[1;32m     <a href='vscode-notebook-cell://attached-container%2B7b22636f6e7461696e65724e616d65223a222f66613762393730323633396139393261303235306139393438353332636164326564633432343362626361356433316237353633363961646639373866353462227d/com.docker.devenvironments.code/notebook/kafka_read_stream.ipynb#W2sdnNjb2RlLXJlbW90ZQ%3D%3D?line=16'>17</a>\u001b[0m \u001b[39mdef\u001b[39;00m \u001b[39mdecode_kafka_online_item\u001b[39m(raw_message, raw_key):\n\u001b[1;32m     <a href='vscode-notebook-cell://attached-container%2B7b22636f6e7461696e65724e616d65223a222f66613762393730323633396139393261303235306139393438353332636164326564633432343362626361356433316237353633363961646639373866353462227d/com.docker.devenvironments.code/notebook/kafka_read_stream.ipynb#W2sdnNjb2RlLXJlbW90ZQ%3D%3D?line=17'>18</a>\u001b[0m     message \u001b[39m=\u001b[39m tf\u001b[39m.\u001b[39mio\u001b[39m.\u001b[39mdecode_csv(raw_message, [[\u001b[39m0.0\u001b[39m] \u001b[39mfor\u001b[39;00m i \u001b[39min\u001b[39;00m \u001b[39mrange\u001b[39m(NUM_COLUMNS)])\n",
      "File \u001b[0;32m/com.docker.devenvironments.code/.venv/lib/python3.11/site-packages/tensorflow_io/python/experimental/kafka_batch_io_dataset_ops.py:128\u001b[0m, in \u001b[0;36mKafkaBatchIODataset.__init__\u001b[0;34m(self, topics, group_id, servers, stream_timeout, message_poll_timeout, configuration, internal)\u001b[0m\n\u001b[1;32m    126\u001b[0m \u001b[39mif\u001b[39;00m servers \u001b[39mis\u001b[39;00m \u001b[39mnot\u001b[39;00m \u001b[39mNone\u001b[39;00m:\n\u001b[1;32m    127\u001b[0m     metadata\u001b[39m.\u001b[39mappend(\u001b[39m\"\u001b[39m\u001b[39mbootstrap.servers=\u001b[39m\u001b[39m%s\u001b[39;00m\u001b[39m\"\u001b[39m \u001b[39m%\u001b[39m servers)\n\u001b[0;32m--> 128\u001b[0m resource \u001b[39m=\u001b[39m core_ops\u001b[39m.\u001b[39;49mio_kafka_group_readable_init(\n\u001b[1;32m    129\u001b[0m     topics\u001b[39m=\u001b[39mtopics, metadata\u001b[39m=\u001b[39mmetadata\n\u001b[1;32m    130\u001b[0m )\n\u001b[1;32m    132\u001b[0m \u001b[39mself\u001b[39m\u001b[39m.\u001b[39m_resource \u001b[39m=\u001b[39m resource\n\u001b[1;32m    133\u001b[0m dataset \u001b[39m=\u001b[39m tf\u001b[39m.\u001b[39mdata\u001b[39m.\u001b[39mexperimental\u001b[39m.\u001b[39mCounter()\n",
      "File \u001b[0;32m/com.docker.devenvironments.code/.venv/lib/python3.11/site-packages/tensorflow_io/python/ops/__init__.py:88\u001b[0m, in \u001b[0;36mLazyLoader.__getattr__\u001b[0;34m(self, attrb)\u001b[0m\n\u001b[1;32m     87\u001b[0m \u001b[39mdef\u001b[39;00m \u001b[39m__getattr__\u001b[39m(\u001b[39mself\u001b[39m, attrb):\n\u001b[0;32m---> 88\u001b[0m     \u001b[39mreturn\u001b[39;00m \u001b[39mgetattr\u001b[39m(\u001b[39mself\u001b[39;49m\u001b[39m.\u001b[39;49m_load(), attrb)\n",
      "File \u001b[0;32m/com.docker.devenvironments.code/.venv/lib/python3.11/site-packages/tensorflow_io/python/ops/__init__.py:84\u001b[0m, in \u001b[0;36mLazyLoader._load\u001b[0;34m(self)\u001b[0m\n\u001b[1;32m     82\u001b[0m \u001b[39mdef\u001b[39;00m \u001b[39m_load\u001b[39m(\u001b[39mself\u001b[39m):\n\u001b[1;32m     83\u001b[0m     \u001b[39mif\u001b[39;00m \u001b[39mself\u001b[39m\u001b[39m.\u001b[39m_mod \u001b[39mis\u001b[39;00m \u001b[39mNone\u001b[39;00m:\n\u001b[0;32m---> 84\u001b[0m         \u001b[39mself\u001b[39m\u001b[39m.\u001b[39m_mod \u001b[39m=\u001b[39m _load_library(\u001b[39mself\u001b[39;49m\u001b[39m.\u001b[39;49m_library)\n\u001b[1;32m     85\u001b[0m     \u001b[39mreturn\u001b[39;00m \u001b[39mself\u001b[39m\u001b[39m.\u001b[39m_mod\n",
      "File \u001b[0;32m/com.docker.devenvironments.code/.venv/lib/python3.11/site-packages/tensorflow_io/python/ops/__init__.py:69\u001b[0m, in \u001b[0;36m_load_library\u001b[0;34m(filename, lib)\u001b[0m\n\u001b[1;32m     67\u001b[0m     \u001b[39mexcept\u001b[39;00m (tf\u001b[39m.\u001b[39merrors\u001b[39m.\u001b[39mNotFoundError, \u001b[39mOSError\u001b[39;00m) \u001b[39mas\u001b[39;00m e:\n\u001b[1;32m     68\u001b[0m         errs\u001b[39m.\u001b[39mappend(\u001b[39mstr\u001b[39m(e))\n\u001b[0;32m---> 69\u001b[0m \u001b[39mraise\u001b[39;00m \u001b[39mNotImplementedError\u001b[39;00m(\n\u001b[1;32m     70\u001b[0m     \u001b[39m\"\u001b[39m\u001b[39munable to open file: \u001b[39m\u001b[39m\"\u001b[39m\n\u001b[1;32m     71\u001b[0m     \u001b[39m+\u001b[39m \u001b[39mf\u001b[39m\u001b[39m\"\u001b[39m\u001b[39m{\u001b[39;00mfilename\u001b[39m}\u001b[39;00m\u001b[39m, from paths: \u001b[39m\u001b[39m{\u001b[39;00mfilenames\u001b[39m}\u001b[39;00m\u001b[39m\\n\u001b[39;00m\u001b[39mcaused by: \u001b[39m\u001b[39m{\u001b[39;00merrs\u001b[39m}\u001b[39;00m\u001b[39m\"\u001b[39m\n\u001b[1;32m     72\u001b[0m )\n",
      "\u001b[0;31mNotImplementedError\u001b[0m: unable to open file: libtensorflow_io.so, from paths: ['/com.docker.devenvironments.code/.venv/lib/python3.11/site-packages/tensorflow_io/python/ops/libtensorflow_io.so']\ncaused by: ['/com.docker.devenvironments.code/.venv/lib/python3.11/site-packages/tensorflow_io/python/ops/libtensorflow_io.so: undefined symbol: _ZNK10tensorflow4data11DatasetBase8FinalizeEPNS_15OpKernelContextESt8functionIFN3tsl8StatusOrINS5_4core11RefCountPtrIS1_EEEEvEE']"
     ]
    }
   ],
   "source": [
    "BATCH_SIZE=64\n",
    "SHUFFLE_BUFFER_SIZE=64\n",
    "NUM_COLUMNS = 2\n",
    "\n",
    "online_train_ds = tfio.experimental.streaming.KafkaBatchIODataset(\n",
    "    topics=[\"train\"],\n",
    "    group_id=\"cgonline\",\n",
    "    servers=\"127.0.0.1:9092\",\n",
    "    stream_timeout=10000, # in milliseconds, to block indefinitely,set it -1\n",
    "    configuration=[\n",
    "        \"session.timeout.ms=7000\",\n",
    "        \"max.poll.interval.ms=8000\",\n",
    "        \"auto.offset.reset=earliest\"\n",
    "    ],\n",
    ")\n",
    "\n",
    "def decode_kafka_online_item(raw_message, raw_key):\n",
    "    message = tf.io.decode_csv(raw_message, [[0.0] for i in range(NUM_COLUMNS)])\n",
    "    key = tf.strings.to_number(raw_key)\n",
    "    return (message, key)\n",
    " \n",
    "for mini_ds in online_train_ds:\n",
    "    mini_ds = mini_ds.shuffle(buffer_size=32)\n",
    "    mini_ds = mini_ds.map(decode_kafka_online_item)\n",
    "    mini_ds = mini_ds.batch(32)\n",
    "    # if len(mini_ds) > 0:\n",
    "    #     model.fit(mini_ds, epochs=3)\n",
    "    print(type(mini_ds))\n",
    "    print(mini_ds.shape)\n",
    "    print(mini_ds.take(1))\n",
    "    break\n",
    "    "
   ]
  }
 ],
 "metadata": {
  "kernelspec": {
   "display_name": ".venv",
   "language": "python",
   "name": "python3"
  },
  "language_info": {
   "codemirror_mode": {
    "name": "ipython",
    "version": 3
   },
   "file_extension": ".py",
   "mimetype": "text/x-python",
   "name": "python",
   "nbconvert_exporter": "python",
   "pygments_lexer": "ipython3",
   "version": "3.11.5"
  }
 },
 "nbformat": 4,
 "nbformat_minor": 2
}
